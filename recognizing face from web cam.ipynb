{
 "cells": [
  {
   "cell_type": "markdown",
   "id": "08acae30-7df7-4fd8-9a3d-ca1478ae64c8",
   "metadata": {},
   "source": [
    "import dependencies"
   ]
  },
  {
   "cell_type": "code",
   "execution_count": 2,
   "id": "32e11d12-10b2-4e52-87a6-56ce80421ee3",
   "metadata": {},
   "outputs": [],
   "source": [
    "import pywt\n",
    "\n",
    "import cv2"
   ]
  },
  {
   "cell_type": "code",
   "execution_count": 5,
   "id": "0146cbf7-1981-40d7-a558-e9e2f082ea72",
   "metadata": {},
   "outputs": [],
   "source": [
    "import tensorflow as tf"
   ]
  },
  {
   "cell_type": "code",
   "execution_count": 6,
   "id": "6c57b74c-1277-4073-835a-94eee27d9e7a",
   "metadata": {},
   "outputs": [],
   "source": [
    "import os\n",
    "\n",
    "import numpy as np\n",
    "\n",
    "import matplotlib.pyplot as plt\n",
    "\n",
    "import seaborn as sns\n",
    "\n",
    "from sklearn.model_selection import train_test_split\n",
    "\n",
    "from sklearn.metrics import confusion_matrix"
   ]
  },
  {
   "cell_type": "code",
   "execution_count": 7,
   "id": "46383249-e9f9-48ee-bbe8-0ff96b78019a",
   "metadata": {},
   "outputs": [],
   "source": [
    "gpus=tf.config.list_physical_devices(\"GPU\")"
   ]
  },
  {
   "cell_type": "code",
   "execution_count": 8,
   "id": "6802250d-05f4-4a3d-adcf-93ffd63d3886",
   "metadata": {},
   "outputs": [],
   "source": [
    "for gpu in gpus:\n",
    "    tf.config.experimental.set_memory_growth(GPU,True)"
   ]
  },
  {
   "cell_type": "code",
   "execution_count": 9,
   "id": "e2752903-f6af-4a7b-a224-86b89741280e",
   "metadata": {},
   "outputs": [
    {
     "data": {
      "text/plain": [
       "0"
      ]
     },
     "execution_count": 9,
     "metadata": {},
     "output_type": "execute_result"
    }
   ],
   "source": [
    "len(gpus)"
   ]
  },
  {
   "cell_type": "code",
   "execution_count": 17,
   "id": "741848de-8d70-4c8d-a050-4dd87aad53ef",
   "metadata": {
    "scrolled": true
   },
   "outputs": [
    {
     "name": "stdout",
     "output_type": "stream",
     "text": [
      "Saved webcam_image_0.jpg\n",
      "Saved webcam_image_1.jpg\n",
      "Saved webcam_image_2.jpg\n",
      "Saved webcam_image_3.jpg\n",
      "Saved webcam_image_4.jpg\n",
      "Saved webcam_image_5.jpg\n",
      "Saved webcam_image_6.jpg\n",
      "Saved webcam_image_7.jpg\n",
      "Saved webcam_image_8.jpg\n",
      "Saved webcam_image_9.jpg\n",
      "Saved webcam_image_10.jpg\n",
      "Saved webcam_image_11.jpg\n",
      "Saved webcam_image_12.jpg\n",
      "Saved webcam_image_13.jpg\n",
      "Saved webcam_image_14.jpg\n",
      "Saved webcam_image_15.jpg\n",
      "Saved webcam_image_16.jpg\n",
      "Saved webcam_image_17.jpg\n",
      "Saved webcam_image_18.jpg\n",
      "Saved webcam_image_19.jpg\n",
      "Saved webcam_image_20.jpg\n",
      "Saved webcam_image_21.jpg\n",
      "Saved webcam_image_22.jpg\n",
      "Saved webcam_image_23.jpg\n",
      "Saved webcam_image_24.jpg\n",
      "Saved webcam_image_25.jpg\n",
      "Saved webcam_image_26.jpg\n",
      "Saved webcam_image_27.jpg\n",
      "Saved webcam_image_28.jpg\n",
      "Saved webcam_image_29.jpg\n",
      "Saved webcam_image_30.jpg\n",
      "Saved webcam_image_31.jpg\n",
      "Saved webcam_image_32.jpg\n",
      "Saved webcam_image_33.jpg\n",
      "Saved webcam_image_34.jpg\n",
      "Saved webcam_image_35.jpg\n",
      "Saved webcam_image_36.jpg\n",
      "Saved webcam_image_37.jpg\n",
      "Saved webcam_image_38.jpg\n",
      "Saved webcam_image_39.jpg\n",
      "Saved webcam_image_40.jpg\n",
      "Saved webcam_image_41.jpg\n",
      "Saved webcam_image_42.jpg\n",
      "Saved webcam_image_43.jpg\n",
      "Saved webcam_image_44.jpg\n",
      "Saved webcam_image_45.jpg\n",
      "Saved webcam_image_46.jpg\n",
      "Saved webcam_image_47.jpg\n",
      "Saved webcam_image_48.jpg\n",
      "Saved webcam_image_49.jpg\n",
      "Saved webcam_image_50.jpg\n",
      "Saved webcam_image_51.jpg\n",
      "Saved webcam_image_52.jpg\n",
      "Saved webcam_image_53.jpg\n",
      "Saved webcam_image_54.jpg\n",
      "Saved webcam_image_55.jpg\n",
      "Saved webcam_image_56.jpg\n",
      "Saved webcam_image_57.jpg\n",
      "Saved webcam_image_58.jpg\n",
      "Saved webcam_image_59.jpg\n",
      "Saved webcam_image_60.jpg\n",
      "Saved webcam_image_61.jpg\n",
      "Saved webcam_image_62.jpg\n",
      "Saved webcam_image_63.jpg\n",
      "Saved webcam_image_64.jpg\n",
      "Saved webcam_image_65.jpg\n",
      "Saved webcam_image_66.jpg\n",
      "Saved webcam_image_67.jpg\n",
      "Saved webcam_image_68.jpg\n",
      "Saved webcam_image_69.jpg\n",
      "Saved webcam_image_70.jpg\n",
      "Saved webcam_image_71.jpg\n",
      "Saved webcam_image_72.jpg\n",
      "Saved webcam_image_73.jpg\n",
      "Saved webcam_image_74.jpg\n",
      "Saved webcam_image_75.jpg\n",
      "Saved webcam_image_76.jpg\n",
      "Saved webcam_image_77.jpg\n",
      "Saved webcam_image_78.jpg\n",
      "Saved webcam_image_79.jpg\n",
      "Saved webcam_image_80.jpg\n",
      "Saved webcam_image_81.jpg\n",
      "Saved webcam_image_82.jpg\n",
      "Saved webcam_image_83.jpg\n",
      "Saved webcam_image_84.jpg\n",
      "Saved webcam_image_85.jpg\n",
      "Saved webcam_image_86.jpg\n",
      "Saved webcam_image_87.jpg\n",
      "Saved webcam_image_88.jpg\n",
      "Saved webcam_image_89.jpg\n",
      "Saved webcam_image_90.jpg\n",
      "Saved webcam_image_91.jpg\n",
      "Saved webcam_image_92.jpg\n",
      "Saved webcam_image_93.jpg\n",
      "Saved webcam_image_94.jpg\n",
      "Saved webcam_image_95.jpg\n",
      "Saved webcam_image_96.jpg\n",
      "Saved webcam_image_97.jpg\n",
      "Saved webcam_image_98.jpg\n",
      "Saved webcam_image_99.jpg\n"
     ]
    }
   ],
   "source": [
    "camera = cv2.VideoCapture(0)\n",
    "# Set the directory where you want to save the images\n",
    "output_directory = \"output_data/\"\n",
    "# Capture and save a specified number of images (e.g., 10)\n",
    "for i in range(100):\n",
    "    ret, frame = camera.read()  # Read a frame from the webcam\n",
    "    if ret:\n",
    "        image_filename = f\"webcam_image_{i}.jpg\"\n",
    "        full_path=os.path.join(\"output_data\",image_filename)\n",
    "        cv2.imwrite(full_path, frame) # Save the frame as a JPG file\n",
    "        print(f\"Saved {image_filename}\")\n",
    "    else:\n",
    "        print(\"Error capturing image from webcam.\")\n",
    "\n",
    "# Release the webcam\n",
    "camera.release()\n",
    "cv2.destroyAllWindows()"
   ]
  },
  {
   "cell_type": "code",
   "execution_count": 10,
   "id": "6154db6a-7813-4006-8a2c-26d70b4d8f0c",
   "metadata": {},
   "outputs": [],
   "source": [
    "def image_to_grey_scale(path):\n",
    "    if os.path.isfile(path):\n",
    "        image=cv2.imread(path)\n",
    "        img_rgb1=cv2.cvtColor(image,cv2.COLOR_BGR2RGB)\n",
    "        img_gray=cv2.cvtColor(img_rgb1,cv2.COLOR_RGB2GRAY)\n",
    "        #print(\"read successfully\")\n",
    "        return img_gray,img_rgb1\n",
    "    else:\n",
    "        print(\"file path is not exist\")"
   ]
  },
  {
   "cell_type": "code",
   "execution_count": 12,
   "id": "e77eea88-c6f4-4434-906e-6f8f69767699",
   "metadata": {},
   "outputs": [],
   "source": [
    "def finding_face_and_eyes(path,i_class,image):\n",
    "    img_gr,img_color=image_to_grey_scale(path)\n",
    "    \n",
    "    eye_cascade=cv2.CascadeClassifier(\"./haar-cascade-files-master/haar-cascade-files-master/haarcascade_eye.xml\")\n",
    "    face_cascade=cv2.CascadeClassifier(\"./haar-cascade-files-master/haar-cascade-files-master/haarcascade_frontalface_default.xml\")\n",
    "    face = face_cascade.detectMultiScale(img_gr, scaleFactor=1.1, minNeighbors=5)\n",
    "    for i,(x, y, w, h) in enumerate(face):\n",
    "        roi=img_gr[y:y+h, x:x+w]\n",
    "        roi_color=img_color[y:y+h,x:x+h]\n",
    "        eye = eye_cascade.detectMultiScale(roi, scaleFactor=1.1, minNeighbors=5)\n",
    "        if len(eye) == 2:\n",
    "            path1 = os.path.join(\"cropped_images_face\",i_class)\n",
    "            if os.path.exists(path1):\n",
    "                #print(\"path exists\")\n",
    "                output_path = os.path.join(\"cropped_images_face\",i_class,f\"{i}{image}\")\n",
    "                cv2.imwrite(output_path, roi_color)\n",
    "            else:\n",
    "                if os.path.exists(\"./cropped_images_face\"):\n",
    "                    os.makedirs(os.path.join(\"cropped_images_face\",i_class))\n",
    "                    #print(\"created\",i_class)\n",
    "                    output_path = os.path.join(\"cropped_images_face\",i_class,f\"{i}{image}\")\n",
    "                    cv2.imwrite(output_path, roi_color)\n",
    "                else:\n",
    "                    os.makedirs(\"cropped_images_face\")\n",
    "                    #print(\"directory created\")\n",
    "                    os.makedirs(os.path.join(\"cropped_images_face\",i_class))\n",
    "                    #print(\"created\",i_class)\n",
    "                    output_path = os.path.join(\"cropped_images_face\",i_class,f\"{i}{image}\")\n",
    "                    cv2.imwrite(output_path, roi_color)"
   ]
  },
  {
   "cell_type": "code",
   "execution_count": 8,
   "id": "9e07ca96-385b-4002-9dbd-e5db3c0210b7",
   "metadata": {
    "scrolled": true
   },
   "outputs": [
    {
     "name": "stdout",
     "output_type": "stream",
     "text": [
      "directory created\n",
      "created one\n"
     ]
    }
   ],
   "source": [
    "for i_class in os.listdir(\"./output_data\"):\n",
    "    for image in os.listdir(os.path.join(\"output_data\",i_class)):\n",
    "        finding_face_and_eyes(os.path.join(\"output_data\",i_class,image),i_class, image)"
   ]
  },
  {
   "cell_type": "code",
   "execution_count": 9,
   "id": "fefc764b-50e6-4ed3-a246-45295591d1be",
   "metadata": {},
   "outputs": [],
   "source": [
    "class_face_dict={}"
   ]
  },
  {
   "cell_type": "code",
   "execution_count": 10,
   "id": "ebd13e13-a200-441c-87e8-c2b74148a037",
   "metadata": {
    "scrolled": true
   },
   "outputs": [],
   "source": [
    "image_path=[]\n",
    "\n",
    "image_path1=[]\n",
    "\n",
    "\n",
    "for image in os.listdir(os.path.join(\"cropped_images_face\",\"zero\")):\n",
    "    image_path.append(os.path.join(\"cropped_images_face\",\"zero\",image))\n",
    "\n",
    "for image in os.listdir(os.path.join(\"cropped_images_face\",\"one\")):\n",
    "    image_path1.append(os.path.join(\"cropped_images_face\",\"one\",image))\n",
    "\n",
    "\n",
    "\n",
    "class_face_dict[\"zero\"]=image_path\n",
    "\n",
    "class_face_dict[\"one\"]=image_path1\n",
    "\n",
    "\n",
    "#class_face_dict"
   ]
  },
  {
   "cell_type": "code",
   "execution_count": 11,
   "id": "d425394a-c05b-4a02-bc9e-e2a4776d35d8",
   "metadata": {},
   "outputs": [],
   "source": [
    "dict={}\n",
    "count=0\n",
    "for name in class_face_dict.keys():\n",
    "    dict[name]=count\n",
    "    count+=1\n",
    "#dict"
   ]
  },
  {
   "cell_type": "code",
   "execution_count": 39,
   "id": "1f3d36a3-9405-4b17-80fe-78d04caacf43",
   "metadata": {},
   "outputs": [],
   "source": [
    "def w2d1(img,mode=\"haar\",level=1):\n",
    "    imarray=img\n",
    "    #imarray=cv2.cvtColor(imarray,cv2.COLOR_BGR2GRAY)\n",
    "    imarray=np.float32(imarray)\n",
    "    imarray/=255\n",
    "    co=pywt.wavedec2(imarray,mode,level)\n",
    "    co_h=list(co)\n",
    "    co_h[0]*=0\n",
    "    imarray_h=pywt.waverec2(co_h,mode)\n",
    "    imarray_h*=255\n",
    "    imarray_h=np.uint8(imarray_h)\n",
    "    return imarray_h"
   ]
  },
  {
   "cell_type": "code",
   "execution_count": 38,
   "id": "f58234e9-188f-49e8-9324-88507d7e7d45",
   "metadata": {},
   "outputs": [
    {
     "ename": "NameError",
     "evalue": "name 'class_face_dict' is not defined",
     "output_type": "error",
     "traceback": [
      "\u001b[1;31m---------------------------------------------------------------------------\u001b[0m",
      "\u001b[1;31mNameError\u001b[0m                                 Traceback (most recent call last)",
      "Cell \u001b[1;32mIn[38], line 4\u001b[0m\n\u001b[0;32m      2\u001b[0m y\u001b[38;5;241m=\u001b[39m[]\n\u001b[0;32m      3\u001b[0m combined_image\u001b[38;5;241m=\u001b[39m[]\n\u001b[1;32m----> 4\u001b[0m \u001b[38;5;28;01mfor\u001b[39;00m name , paths \u001b[38;5;129;01min\u001b[39;00m \u001b[43mclass_face_dict\u001b[49m\u001b[38;5;241m.\u001b[39mitems():\n\u001b[0;32m      5\u001b[0m     \u001b[38;5;28;01mfor\u001b[39;00m path \u001b[38;5;129;01min\u001b[39;00m paths:\n\u001b[0;32m      6\u001b[0m         img \u001b[38;5;241m=\u001b[39m cv2\u001b[38;5;241m.\u001b[39mimread(path)\n",
      "\u001b[1;31mNameError\u001b[0m: name 'class_face_dict' is not defined"
     ]
    }
   ],
   "source": [
    "x=[]\n",
    "y=[]\n",
    "combined_image=[]\n",
    "for name , paths in class_face_dict.items():\n",
    "    for path in paths:\n",
    "        img = cv2.imread(path)\n",
    "        img_sca=cv2.resize(img,(256,256))\n",
    "        img_sca=cv2.cvtColor(img_sca,cv2.COLOR_RGB2GRAY)\n",
    "        #print(img_sca.size)\n",
    "        imhar=w2d1(img,'db1',5)\n",
    "        #print(imhar.size)\n",
    "        img_ha=cv2.resize(imhar,(256,256))\n",
    "        #img_sha=cv2.cvtColor(img_ha,cv2.COLOR_RGB2GRAY)\n",
    "        #print(img_sha.size)\n",
    "        combined_image=np.hstack((img_ha.reshape(256,256,1),img_sca.reshape(256,256,1)))\n",
    "        x.append(combined_image)\n",
    "        y.append(dict[name])\n",
    "\"\"\"len(x[0])\n",
    "plt.imshow(x[100],cmap=\"gray\")\n",
    "len(y)\"\"\""
   ]
  },
  {
   "cell_type": "code",
   "execution_count": 15,
   "id": "a64c3ecd-b5f0-4342-8d87-ccaa9156b573",
   "metadata": {},
   "outputs": [],
   "source": [
    "x= np.array(x).reshape(len(x),256,512,1).astype(\"float32\")"
   ]
  },
  {
   "cell_type": "code",
   "execution_count": 16,
   "id": "dfc4774b-3c34-46c5-ba3f-066035c991ae",
   "metadata": {},
   "outputs": [],
   "source": [
    "x_norm= x/255.0"
   ]
  },
  {
   "cell_type": "code",
   "execution_count": 17,
   "id": "5039c49d-6c7f-4a7c-ae5c-61316419c445",
   "metadata": {},
   "outputs": [],
   "source": [
    "x_train,x_test,y_train,y_test=train_test_split(x_norm,y,test_size=0.2,random_state=42)"
   ]
  },
  {
   "cell_type": "code",
   "execution_count": 18,
   "id": "cd92f4b7-b995-4cd3-b513-dfefbb346621",
   "metadata": {},
   "outputs": [
    {
     "name": "stderr",
     "output_type": "stream",
     "text": [
      "C:\\Users\\Tejasri Seeripi\\AppData\\Local\\Programs\\Python\\Python311\\Lib\\site-packages\\keras\\src\\layers\\convolutional\\base_conv.py:107: UserWarning: Do not pass an `input_shape`/`input_dim` argument to a layer. When using Sequential models, prefer using an `Input(shape)` object as the first layer in the model instead.\n",
      "  super().__init__(activity_regularizer=activity_regularizer, **kwargs)\n"
     ]
    }
   ],
   "source": [
    "model=tf.keras.Sequential([\n",
    "    tf.keras.layers.Conv2D(16,(3,3),1,activation=\"relu\",input_shape=(256,512,1)),\n",
    "    tf.keras.layers.MaxPooling2D(),\n",
    "    tf.keras.layers.Conv2D(32,(3,3),1,activation=\"relu\"),\n",
    "    tf.keras.layers.MaxPooling2D(),\n",
    "    tf.keras.layers.Conv2D(16,(3,3),1,activation=\"relu\"),\n",
    "    tf.keras.layers.MaxPooling2D(),\n",
    "    tf.keras.layers.Flatten(),\n",
    "    tf.keras.layers.Dense(100,activation=\"relu\"),\n",
    "    tf.keras.layers.Dense(2,activation=\"softmax\")\n",
    "])\n",
    "model.compile(loss=tf.keras.losses.SparseCategoricalCrossentropy(from_logits=True),\n",
    "             optimizer=tf.keras.optimizers.Adam(),metrics=[\"accuracy\"])"
   ]
  },
  {
   "cell_type": "code",
   "execution_count": 19,
   "id": "b76a9af8-cb99-4f66-b155-a3e9bdc90e15",
   "metadata": {},
   "outputs": [
    {
     "name": "stderr",
     "output_type": "stream",
     "text": [
      "C:\\Users\\Tejasri Seeripi\\AppData\\Local\\Programs\\Python\\Python311\\Lib\\site-packages\\keras\\src\\backend\\tensorflow\\nn.py:602: UserWarning: \"`sparse_categorical_crossentropy` received `from_logits=True`, but the `output` argument was produced by a Softmax activation and thus does not represent logits. Was this intended?\n",
      "  output, from_logits = _get_logits(\n"
     ]
    }
   ],
   "source": [
    "history=model.fit(np.array(x_train),np.array(y_train),epochs=20,verbose=0)"
   ]
  },
  {
   "cell_type": "code",
   "execution_count": 20,
   "id": "96f95419-389b-4324-a4bc-dbc9b5dea486",
   "metadata": {},
   "outputs": [
    {
     "name": "stdout",
     "output_type": "stream",
     "text": [
      "\u001b[1m1/1\u001b[0m \u001b[32m━━━━━━━━━━━━━━━━━━━━\u001b[0m\u001b[37m\u001b[0m \u001b[1m0s\u001b[0m 343ms/step - accuracy: 1.0000 - loss: 3.7047e-04\n"
     ]
    },
    {
     "data": {
      "text/plain": [
       "[0.0003704650152940303, 1.0]"
      ]
     },
     "execution_count": 20,
     "metadata": {},
     "output_type": "execute_result"
    }
   ],
   "source": [
    "model.evaluate(np.array(x_test),np.array(y_test))"
   ]
  },
  {
   "cell_type": "code",
   "execution_count": 21,
   "id": "dba5e28b-0a78-4c68-8dfd-2a42928c2883",
   "metadata": {},
   "outputs": [
    {
     "data": {
      "text/plain": [
       "Text(0, 0.5, 'loss')"
      ]
     },
     "execution_count": 21,
     "metadata": {},
     "output_type": "execute_result"
    },
    {
     "data": {
      "image/png": "[encoded data removed]",
      "text/plain": [
       "<Figure size 200x200 with 1 Axes>"
      ]
     },
     "metadata": {},
     "output_type": "display_data"
    },
    {
     "data": {
      "image/png": "[encoded data removed]",
      "text/plain": [
       "<Figure size 200x200 with 1 Axes>"
      ]
     },
     "metadata": {},
     "output_type": "display_data"
    }
   ],
   "source": [
    "plt.figure(figsize=(2,2))\n",
    "plt.subplot(1,2,1)\n",
    "plt.plot(history.history[\"accuracy\"])\n",
    "plt.xlabel(\"epochs\")\n",
    "plt.ylabel(\"accuarcy\")\n",
    "\n",
    "plt.figure(figsize=(2,2))\n",
    "plt.subplot(1,2,2)\n",
    "plt.plot(history.history[\"loss\"])\n",
    "plt.xlabel(\"epochs\")\n",
    "plt.ylabel(\"loss\")"
   ]
  },
  {
   "cell_type": "code",
   "execution_count": 22,
   "id": "615e30f9-3aeb-4603-8fa8-9a01bc9af091",
   "metadata": {},
   "outputs": [
    {
     "name": "stdout",
     "output_type": "stream",
     "text": [
      "\u001b[1m1/1\u001b[0m \u001b[32m━━━━━━━━━━━━━━━━━━━━\u001b[0m\u001b[37m\u001b[0m \u001b[1m0s\u001b[0m 245ms/step\n"
     ]
    }
   ],
   "source": [
    "y_pred=model.predict(np.array(x_test))"
   ]
  },
  {
   "cell_type": "code",
   "execution_count": 59,
   "id": "379c696f-d0c7-4f1d-9835-0d83f53d6d4b",
   "metadata": {},
   "outputs": [
    {
     "data": {
      "text/plain": [
       "26"
      ]
     },
     "execution_count": 59,
     "metadata": {},
     "output_type": "execute_result"
    }
   ],
   "source": [
    "len(y_pred)"
   ]
  },
  {
   "cell_type": "code",
   "execution_count": 23,
   "id": "e98f44e4-5635-41ad-b679-229ea5f0e7d4",
   "metadata": {},
   "outputs": [
    {
     "data": {
      "text/plain": [
       "'\\nplt.figure(figsize=(10,20))\\nfor i in range(10):\\n    plt.subplot(13,2,i+1)\\n    plt.imshow(np.array(x_test[i]),cmap=\"gray\")\\n    plt.xlabel(f\"TRUE{np.array(y_test[i])}\")\\n    plt.ylabel(f\"predicted{np.argmax(y_pred[i])}\")\\n    '"
      ]
     },
     "execution_count": 23,
     "metadata": {},
     "output_type": "execute_result"
    }
   ],
   "source": [
    "\"\"\"\n",
    "plt.figure(figsize=(10,20))\n",
    "for i in range(10):\n",
    "    plt.subplot(13,2,i+1)\n",
    "    plt.imshow(np.array(x_test[i]),cmap=\"gray\")\n",
    "    plt.xlabel(f\"TRUE{np.array(y_test[i])}\")\n",
    "    plt.ylabel(f\"predicted{np.argmax(y_pred[i])}\")\n",
    "    \"\"\""
   ]
  },
  {
   "cell_type": "code",
   "execution_count": 24,
   "id": "d24e5eaa-edf2-41a8-8d7c-216e432e4a26",
   "metadata": {},
   "outputs": [],
   "source": [
    "y_pred_max=[]"
   ]
  },
  {
   "cell_type": "code",
   "execution_count": 25,
   "id": "a37899a6-b713-4f08-b7e0-ddf4384bb656",
   "metadata": {},
   "outputs": [],
   "source": [
    "for i in range(26):\n",
    "    y_pred_max.append(np.argmax(y_pred[i]))"
   ]
  },
  {
   "cell_type": "code",
   "execution_count": 26,
   "id": "f3174861-602a-41f5-9902-29cf8f29e722",
   "metadata": {
    "scrolled": true
   },
   "outputs": [
    {
     "data": {
      "text/plain": [
       "26"
      ]
     },
     "execution_count": 26,
     "metadata": {},
     "output_type": "execute_result"
    }
   ],
   "source": [
    "len(y_pred_max)"
   ]
  },
  {
   "cell_type": "code",
   "execution_count": 27,
   "id": "dc9bbba1-50d9-456f-a0e1-53b21e336cdc",
   "metadata": {},
   "outputs": [],
   "source": [
    "cns1=confusion_matrix(np.array(y_test),y_pred_max)"
   ]
  },
  {
   "cell_type": "code",
   "execution_count": 28,
   "id": "12f2ec15-111a-40aa-ba03-f52ce58825ab",
   "metadata": {},
   "outputs": [
    {
     "data": {
      "text/plain": [
       "<Axes: >"
      ]
     },
     "execution_count": 28,
     "metadata": {},
     "output_type": "execute_result"
    },
    {
     "data": {
      "image/png": "[encoded data removed]",
      "text/plain": [
       "<Figure size 640x480 with 2 Axes>"
      ]
     },
     "metadata": {},
     "output_type": "display_data"
    }
   ],
   "source": [
    "sns.heatmap(cns1)"
   ]
  },
  {
   "cell_type": "code",
   "execution_count": null,
   "id": "da850515-fecc-43b3-b25b-b4480bde89e3",
   "metadata": {},
   "outputs": [],
   "source": [
    "model.save(\"./models/face_recognization.keras\")"
   ]
  },
  {
   "cell_type": "code",
   "execution_count": 51,
   "id": "aab7b4d8-eb2b-4821-b38a-918b04c08616",
   "metadata": {},
   "outputs": [],
   "source": [
    "def capture():\n",
    "    camera = cv2.VideoCapture(0)\n",
    "    \n",
    "    # Set the directory where you want to save the images\n",
    "    output_directory = \"output_data1/\"\n",
    "    \n",
    "    # Capture and save a specified number of images (e.g., 10)\n",
    "    for i in range(1):\n",
    "        ret, frame = camera.read()  # Read a frame from the webcam\n",
    "        if ret:\n",
    "            image_filename = f\"webcam_image_{i}.jpg\"\n",
    "            full_path=os.path.join(\"output_data1\",image_filename)\n",
    "            cv2.imwrite(full_path, frame) # Save the frame as a JPG file\n",
    "            print(f\"Saved {image_filename}\")\n",
    "        else:\n",
    "            print(\"Error capturing image from webcam.\")\n",
    "    \n",
    "    # Release the webcam\n",
    "    camera.release()\n",
    "    cv2.destroyAllWindows()\n",
    "    path = os.path.join(\"./output_data1\",image_filename)\n",
    "    \n",
    "    face_cascade=cv2.CascadeClassifier(\"./haar-cascade-files-master/haar-cascade-files-master/haarcascade_frontalface_default.xml\")\n",
    "    \n",
    "    \n",
    "    combined_image1=[]\n",
    "    x_1=[]\n",
    "    img = cv2.imread(path)\n",
    "    #img_sca=cv2.resize(img,(256,256))\n",
    "    img_sca=cv2.cvtColor(img,cv2.COLOR_RGB2GRAY)\n",
    "    face = face_cascade.detectMultiScale(img_sca, scaleFactor=1.1, minNeighbors=5)\n",
    "    x,y,w,h = face[0]\n",
    "    img1=img_sca[y:y+h,x:x+w]\n",
    "    img1=cv2.resize(img1,(256,256))\n",
    "            #print(img_sca.size)\n",
    "    imhar=w2d1(img1,'db1',5)\n",
    "            #print(imhar.size)\n",
    "    img_ha=cv2.resize(imhar,(256,256))\n",
    "            #img_sha=cv2.cvtColor(img_ha,cv2.COLOR_RGB2GRAY)\n",
    "            #print(img_sha.size)\n",
    "    combined_image1=np.hstack((img_ha.reshape(256,256,1),img1.reshape(256,256,1)))\n",
    "    x_1.append(combined_image1)\n",
    "    \n",
    "    #print(x_1.shape)\n",
    "    #plt.imshow(x_1[0],cmap=\"gray\")\n",
    "    x_1= np.array(x_1).reshape(len(x_1),256,512,1).astype(\"float32\")\n",
    "    \n",
    "    x_1_norm=x_1/255.0\n",
    "    \n",
    "    \n",
    "    \n",
    "    loaded=tf.keras.models.load_model(os.path.join(\"models\",\"face_recognization.keras\"))\n",
    "    \n",
    "    pre= loaded.predict(x_1_norm)\n",
    "    return pre"
   ]
  },
  {
   "cell_type": "code",
   "execution_count": 52,
   "id": "bbf33e63-88b4-4e76-8425-eb3b7793219a",
   "metadata": {},
   "outputs": [
    {
     "name": "stdout",
     "output_type": "stream",
     "text": [
      "Saved webcam_image_0.jpg\n",
      "\u001b[1m1/1\u001b[0m \u001b[32m━━━━━━━━━━━━━━━━━━━━\u001b[0m\u001b[37m\u001b[0m \u001b[1m0s\u001b[0m 109ms/step\n"
     ]
    }
   ],
   "source": [
    "prediction=capture()"
   ]
  },
  {
   "cell_type": "code",
   "execution_count": 53,
   "id": "5dc89175-0333-4bcb-8a18-c785d5ecb94c",
   "metadata": {},
   "outputs": [
    {
     "data": {
      "text/plain": [
       "array([[0.08841328, 0.91158676]], dtype=float32)"
      ]
     },
     "execution_count": 53,
     "metadata": {},
     "output_type": "execute_result"
    }
   ],
   "source": [
    "prediction"
   ]
  },
  {
   "cell_type": "code",
   "execution_count": null,
   "id": "a59551fb-e077-432f-bf47-23b63138d729",
   "metadata": {},
   "outputs": [],
   "source": []
  }
 ],
 "metadata": {
  "kernelspec": {
   "display_name": "Python 3 (ipykernel)",
   "language": "python",
   "name": "python3"
  },
  "language_info": {
   "codemirror_mode": {
    "name": "ipython",
    "version": 3
   },
   "file_extension": ".py",
   "mimetype": "text/x-python",
   "name": "python",
   "nbconvert_exporter": "python",
   "pygments_lexer": "ipython3",
   "version": "3.11.3"
  }
 },
 "nbformat": 4,
 "nbformat_minor": 5
}
